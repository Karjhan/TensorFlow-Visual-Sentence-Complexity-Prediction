{
 "cells": [
  {
   "cell_type": "markdown",
   "source": [
    "# Importing utilities\n",
    "\n",
    "These steps are used to import the main libraries and utilites for the overall project (doesn't include custom functions)"
   ],
   "metadata": {
    "collapsed": false
   },
   "id": "998529ec537fce64"
  },
  {
   "cell_type": "code",
   "execution_count": 7,
   "id": "initial_id",
   "metadata": {
    "collapsed": true,
    "ExecuteTime": {
     "end_time": "2024-12-20T12:10:50.612882100Z",
     "start_time": "2024-12-20T12:10:49.618867600Z"
    }
   },
   "outputs": [
    {
     "ename": "ImportError",
     "evalue": "DLL load failed while importing _fblas: The specified module could not be found.",
     "output_type": "error",
     "traceback": [
      "\u001B[1;31m---------------------------------------------------------------------------\u001B[0m",
      "\u001B[1;31mImportError\u001B[0m                               Traceback (most recent call last)",
      "Cell \u001B[1;32mIn[7], line 5\u001B[0m\n\u001B[0;32m      3\u001B[0m \u001B[38;5;28;01mimport\u001B[39;00m \u001B[38;5;21;01mpandas\u001B[39;00m \u001B[38;5;28;01mas\u001B[39;00m \u001B[38;5;21;01mpd\u001B[39;00m\n\u001B[0;32m      4\u001B[0m \u001B[38;5;28;01mimport\u001B[39;00m \u001B[38;5;21;01mmatplotlib\u001B[39;00m\u001B[38;5;21;01m.\u001B[39;00m\u001B[38;5;21;01mpyplot\u001B[39;00m \u001B[38;5;28;01mas\u001B[39;00m \u001B[38;5;21;01mplt\u001B[39;00m\n\u001B[1;32m----> 5\u001B[0m \u001B[38;5;28;01mfrom\u001B[39;00m \u001B[38;5;21;01mscipy\u001B[39;00m\u001B[38;5;21;01m.\u001B[39;00m\u001B[38;5;21;01mstats\u001B[39;00m \u001B[38;5;28;01mimport\u001B[39;00m spearmanr\n\u001B[0;32m      6\u001B[0m \u001B[38;5;28;01mfrom\u001B[39;00m \u001B[38;5;21;01mtensorflow\u001B[39;00m\u001B[38;5;21;01m.\u001B[39;00m\u001B[38;5;21;01mkeras\u001B[39;00m\u001B[38;5;21;01m.\u001B[39;00m\u001B[38;5;21;01mlayers\u001B[39;00m \u001B[38;5;28;01mimport\u001B[39;00m TextVectorization, Embedding, LSTM, Dense, Dropout, Bidirectional, GlobalAveragePooling1D, BatchNormalization\n\u001B[0;32m      7\u001B[0m \u001B[38;5;28;01mfrom\u001B[39;00m \u001B[38;5;21;01mtensorflow\u001B[39;00m\u001B[38;5;21;01m.\u001B[39;00m\u001B[38;5;21;01mkeras\u001B[39;00m\u001B[38;5;21;01m.\u001B[39;00m\u001B[38;5;21;01mpreprocessing\u001B[39;00m\u001B[38;5;21;01m.\u001B[39;00m\u001B[38;5;21;01mtext\u001B[39;00m \u001B[38;5;28;01mimport\u001B[39;00m Tokenizer\n",
      "File \u001B[1;32mD:\\Programs\\Anaconda\\envs\\pymc_uni\\Lib\\site-packages\\scipy\\stats\\__init__.py:610\u001B[0m\n\u001B[0;32m      1\u001B[0m \u001B[38;5;124;03m\"\"\"\u001B[39;00m\n\u001B[0;32m      2\u001B[0m \u001B[38;5;124;03m.. _statsrefmanual:\u001B[39;00m\n\u001B[0;32m      3\u001B[0m \n\u001B[1;32m   (...)\u001B[0m\n\u001B[0;32m    605\u001B[0m \n\u001B[0;32m    606\u001B[0m \u001B[38;5;124;03m\"\"\"\u001B[39;00m  \u001B[38;5;66;03m# noqa: E501\u001B[39;00m\n\u001B[0;32m    608\u001B[0m \u001B[38;5;28;01mfrom\u001B[39;00m \u001B[38;5;21;01m.\u001B[39;00m\u001B[38;5;21;01m_warnings_errors\u001B[39;00m \u001B[38;5;28;01mimport\u001B[39;00m (ConstantInputWarning, NearConstantInputWarning,\n\u001B[0;32m    609\u001B[0m                                DegenerateDataWarning, FitError)\n\u001B[1;32m--> 610\u001B[0m \u001B[38;5;28;01mfrom\u001B[39;00m \u001B[38;5;21;01m.\u001B[39;00m\u001B[38;5;21;01m_stats_py\u001B[39;00m \u001B[38;5;28;01mimport\u001B[39;00m \u001B[38;5;241m*\u001B[39m\n\u001B[0;32m    611\u001B[0m \u001B[38;5;28;01mfrom\u001B[39;00m \u001B[38;5;21;01m.\u001B[39;00m\u001B[38;5;21;01m_variation\u001B[39;00m \u001B[38;5;28;01mimport\u001B[39;00m variation\n\u001B[0;32m    612\u001B[0m \u001B[38;5;28;01mfrom\u001B[39;00m \u001B[38;5;21;01m.\u001B[39;00m\u001B[38;5;21;01mdistributions\u001B[39;00m \u001B[38;5;28;01mimport\u001B[39;00m \u001B[38;5;241m*\u001B[39m\n",
      "File \u001B[1;32mD:\\Programs\\Anaconda\\envs\\pymc_uni\\Lib\\site-packages\\scipy\\stats\\_stats_py.py:37\u001B[0m\n\u001B[0;32m     34\u001B[0m \u001B[38;5;28;01mimport\u001B[39;00m \u001B[38;5;21;01mnumpy\u001B[39;00m \u001B[38;5;28;01mas\u001B[39;00m \u001B[38;5;21;01mnp\u001B[39;00m\n\u001B[0;32m     35\u001B[0m \u001B[38;5;28;01mfrom\u001B[39;00m \u001B[38;5;21;01mnumpy\u001B[39;00m \u001B[38;5;28;01mimport\u001B[39;00m array, asarray, ma\n\u001B[1;32m---> 37\u001B[0m \u001B[38;5;28;01mfrom\u001B[39;00m \u001B[38;5;21;01mscipy\u001B[39;00m \u001B[38;5;28;01mimport\u001B[39;00m sparse\n\u001B[0;32m     38\u001B[0m \u001B[38;5;28;01mfrom\u001B[39;00m \u001B[38;5;21;01mscipy\u001B[39;00m\u001B[38;5;21;01m.\u001B[39;00m\u001B[38;5;21;01mspatial\u001B[39;00m \u001B[38;5;28;01mimport\u001B[39;00m distance_matrix\n\u001B[0;32m     40\u001B[0m \u001B[38;5;28;01mfrom\u001B[39;00m \u001B[38;5;21;01mscipy\u001B[39;00m\u001B[38;5;21;01m.\u001B[39;00m\u001B[38;5;21;01moptimize\u001B[39;00m \u001B[38;5;28;01mimport\u001B[39;00m milp, LinearConstraint\n",
      "File \u001B[1;32mD:\\Programs\\Anaconda\\envs\\pymc_uni\\Lib\\site-packages\\scipy\\sparse\\__init__.py:307\u001B[0m\n\u001B[0;32m    304\u001B[0m \u001B[38;5;28;01mfrom\u001B[39;00m \u001B[38;5;21;01m.\u001B[39;00m\u001B[38;5;21;01m_matrix_io\u001B[39;00m \u001B[38;5;28;01mimport\u001B[39;00m \u001B[38;5;241m*\u001B[39m\n\u001B[0;32m    306\u001B[0m \u001B[38;5;66;03m# For backward compatibility with v0.19.\u001B[39;00m\n\u001B[1;32m--> 307\u001B[0m \u001B[38;5;28;01mfrom\u001B[39;00m \u001B[38;5;21;01m.\u001B[39;00m \u001B[38;5;28;01mimport\u001B[39;00m csgraph\n\u001B[0;32m    309\u001B[0m \u001B[38;5;66;03m# Deprecated namespaces, to be removed in v2.0.0\u001B[39;00m\n\u001B[0;32m    310\u001B[0m \u001B[38;5;28;01mfrom\u001B[39;00m \u001B[38;5;21;01m.\u001B[39;00m \u001B[38;5;28;01mimport\u001B[39;00m (\n\u001B[0;32m    311\u001B[0m     base, bsr, compressed, construct, coo, csc, csr, data, dia, dok, extract,\n\u001B[0;32m    312\u001B[0m     lil, sparsetools, sputils\n\u001B[0;32m    313\u001B[0m )\n",
      "File \u001B[1;32mD:\\Programs\\Anaconda\\envs\\pymc_uni\\Lib\\site-packages\\scipy\\sparse\\csgraph\\__init__.py:187\u001B[0m\n\u001B[0;32m    158\u001B[0m __docformat__ \u001B[38;5;241m=\u001B[39m \u001B[38;5;124m\"\u001B[39m\u001B[38;5;124mrestructuredtext en\u001B[39m\u001B[38;5;124m\"\u001B[39m\n\u001B[0;32m    160\u001B[0m __all__ \u001B[38;5;241m=\u001B[39m [\u001B[38;5;124m'\u001B[39m\u001B[38;5;124mconnected_components\u001B[39m\u001B[38;5;124m'\u001B[39m,\n\u001B[0;32m    161\u001B[0m            \u001B[38;5;124m'\u001B[39m\u001B[38;5;124mlaplacian\u001B[39m\u001B[38;5;124m'\u001B[39m,\n\u001B[0;32m    162\u001B[0m            \u001B[38;5;124m'\u001B[39m\u001B[38;5;124mshortest_path\u001B[39m\u001B[38;5;124m'\u001B[39m,\n\u001B[1;32m   (...)\u001B[0m\n\u001B[0;32m    184\u001B[0m            \u001B[38;5;124m'\u001B[39m\u001B[38;5;124mcsgraph_to_masked\u001B[39m\u001B[38;5;124m'\u001B[39m,\n\u001B[0;32m    185\u001B[0m            \u001B[38;5;124m'\u001B[39m\u001B[38;5;124mNegativeCycleError\u001B[39m\u001B[38;5;124m'\u001B[39m]\n\u001B[1;32m--> 187\u001B[0m \u001B[38;5;28;01mfrom\u001B[39;00m \u001B[38;5;21;01m.\u001B[39;00m\u001B[38;5;21;01m_laplacian\u001B[39;00m \u001B[38;5;28;01mimport\u001B[39;00m laplacian\n\u001B[0;32m    188\u001B[0m \u001B[38;5;28;01mfrom\u001B[39;00m \u001B[38;5;21;01m.\u001B[39;00m\u001B[38;5;21;01m_shortest_path\u001B[39;00m \u001B[38;5;28;01mimport\u001B[39;00m (\n\u001B[0;32m    189\u001B[0m     shortest_path, floyd_warshall, dijkstra, bellman_ford, johnson, yen,\n\u001B[0;32m    190\u001B[0m     NegativeCycleError\n\u001B[0;32m    191\u001B[0m )\n\u001B[0;32m    192\u001B[0m \u001B[38;5;28;01mfrom\u001B[39;00m \u001B[38;5;21;01m.\u001B[39;00m\u001B[38;5;21;01m_traversal\u001B[39;00m \u001B[38;5;28;01mimport\u001B[39;00m (\n\u001B[0;32m    193\u001B[0m     breadth_first_order, depth_first_order, breadth_first_tree,\n\u001B[0;32m    194\u001B[0m     depth_first_tree, connected_components\n\u001B[0;32m    195\u001B[0m )\n",
      "File \u001B[1;32mD:\\Programs\\Anaconda\\envs\\pymc_uni\\Lib\\site-packages\\scipy\\sparse\\csgraph\\_laplacian.py:7\u001B[0m\n\u001B[0;32m      5\u001B[0m \u001B[38;5;28;01mimport\u001B[39;00m \u001B[38;5;21;01mnumpy\u001B[39;00m \u001B[38;5;28;01mas\u001B[39;00m \u001B[38;5;21;01mnp\u001B[39;00m\n\u001B[0;32m      6\u001B[0m \u001B[38;5;28;01mfrom\u001B[39;00m \u001B[38;5;21;01mscipy\u001B[39;00m\u001B[38;5;21;01m.\u001B[39;00m\u001B[38;5;21;01msparse\u001B[39;00m \u001B[38;5;28;01mimport\u001B[39;00m issparse\n\u001B[1;32m----> 7\u001B[0m \u001B[38;5;28;01mfrom\u001B[39;00m \u001B[38;5;21;01mscipy\u001B[39;00m\u001B[38;5;21;01m.\u001B[39;00m\u001B[38;5;21;01msparse\u001B[39;00m\u001B[38;5;21;01m.\u001B[39;00m\u001B[38;5;21;01mlinalg\u001B[39;00m \u001B[38;5;28;01mimport\u001B[39;00m LinearOperator\n\u001B[0;32m      8\u001B[0m \u001B[38;5;28;01mfrom\u001B[39;00m \u001B[38;5;21;01mscipy\u001B[39;00m\u001B[38;5;21;01m.\u001B[39;00m\u001B[38;5;21;01msparse\u001B[39;00m\u001B[38;5;21;01m.\u001B[39;00m\u001B[38;5;21;01m_sputils\u001B[39;00m \u001B[38;5;28;01mimport\u001B[39;00m convert_pydata_sparse_to_scipy, is_pydata_spmatrix\n\u001B[0;32m     11\u001B[0m \u001B[38;5;66;03m###############################################################################\u001B[39;00m\n\u001B[0;32m     12\u001B[0m \u001B[38;5;66;03m# Graph laplacian\u001B[39;00m\n",
      "File \u001B[1;32mD:\\Programs\\Anaconda\\envs\\pymc_uni\\Lib\\site-packages\\scipy\\sparse\\linalg\\__init__.py:129\u001B[0m\n\u001B[0;32m      1\u001B[0m \u001B[38;5;124;03m\"\"\"\u001B[39;00m\n\u001B[0;32m      2\u001B[0m \u001B[38;5;124;03mSparse linear algebra (:mod:`scipy.sparse.linalg`)\u001B[39;00m\n\u001B[0;32m      3\u001B[0m \u001B[38;5;124;03m==================================================\u001B[39;00m\n\u001B[1;32m   (...)\u001B[0m\n\u001B[0;32m    126\u001B[0m \n\u001B[0;32m    127\u001B[0m \u001B[38;5;124;03m\"\"\"\u001B[39;00m\n\u001B[1;32m--> 129\u001B[0m \u001B[38;5;28;01mfrom\u001B[39;00m \u001B[38;5;21;01m.\u001B[39;00m\u001B[38;5;21;01m_isolve\u001B[39;00m \u001B[38;5;28;01mimport\u001B[39;00m \u001B[38;5;241m*\u001B[39m\n\u001B[0;32m    130\u001B[0m \u001B[38;5;28;01mfrom\u001B[39;00m \u001B[38;5;21;01m.\u001B[39;00m\u001B[38;5;21;01m_dsolve\u001B[39;00m \u001B[38;5;28;01mimport\u001B[39;00m \u001B[38;5;241m*\u001B[39m\n\u001B[0;32m    131\u001B[0m \u001B[38;5;28;01mfrom\u001B[39;00m \u001B[38;5;21;01m.\u001B[39;00m\u001B[38;5;21;01m_interface\u001B[39;00m \u001B[38;5;28;01mimport\u001B[39;00m \u001B[38;5;241m*\u001B[39m\n",
      "File \u001B[1;32mD:\\Programs\\Anaconda\\envs\\pymc_uni\\Lib\\site-packages\\scipy\\sparse\\linalg\\_isolve\\__init__.py:4\u001B[0m\n\u001B[0;32m      1\u001B[0m \u001B[38;5;124m\"\u001B[39m\u001B[38;5;124mIterative Solvers for Sparse Linear Systems\u001B[39m\u001B[38;5;124m\"\u001B[39m\n\u001B[0;32m      3\u001B[0m \u001B[38;5;66;03m#from info import __doc__\u001B[39;00m\n\u001B[1;32m----> 4\u001B[0m \u001B[38;5;28;01mfrom\u001B[39;00m \u001B[38;5;21;01m.\u001B[39;00m\u001B[38;5;21;01miterative\u001B[39;00m \u001B[38;5;28;01mimport\u001B[39;00m \u001B[38;5;241m*\u001B[39m\n\u001B[0;32m      5\u001B[0m \u001B[38;5;28;01mfrom\u001B[39;00m \u001B[38;5;21;01m.\u001B[39;00m\u001B[38;5;21;01mminres\u001B[39;00m \u001B[38;5;28;01mimport\u001B[39;00m minres\n\u001B[0;32m      6\u001B[0m \u001B[38;5;28;01mfrom\u001B[39;00m \u001B[38;5;21;01m.\u001B[39;00m\u001B[38;5;21;01mlgmres\u001B[39;00m \u001B[38;5;28;01mimport\u001B[39;00m lgmres\n",
      "File \u001B[1;32mD:\\Programs\\Anaconda\\envs\\pymc_uni\\Lib\\site-packages\\scipy\\sparse\\linalg\\_isolve\\iterative.py:5\u001B[0m\n\u001B[0;32m      3\u001B[0m \u001B[38;5;28;01mfrom\u001B[39;00m \u001B[38;5;21;01mscipy\u001B[39;00m\u001B[38;5;21;01m.\u001B[39;00m\u001B[38;5;21;01msparse\u001B[39;00m\u001B[38;5;21;01m.\u001B[39;00m\u001B[38;5;21;01mlinalg\u001B[39;00m\u001B[38;5;21;01m.\u001B[39;00m\u001B[38;5;21;01m_interface\u001B[39;00m \u001B[38;5;28;01mimport\u001B[39;00m LinearOperator\n\u001B[0;32m      4\u001B[0m \u001B[38;5;28;01mfrom\u001B[39;00m \u001B[38;5;21;01m.\u001B[39;00m\u001B[38;5;21;01mutils\u001B[39;00m \u001B[38;5;28;01mimport\u001B[39;00m make_system\n\u001B[1;32m----> 5\u001B[0m \u001B[38;5;28;01mfrom\u001B[39;00m \u001B[38;5;21;01mscipy\u001B[39;00m\u001B[38;5;21;01m.\u001B[39;00m\u001B[38;5;21;01mlinalg\u001B[39;00m \u001B[38;5;28;01mimport\u001B[39;00m get_lapack_funcs\n\u001B[0;32m      7\u001B[0m __all__ \u001B[38;5;241m=\u001B[39m [\u001B[38;5;124m'\u001B[39m\u001B[38;5;124mbicg\u001B[39m\u001B[38;5;124m'\u001B[39m, \u001B[38;5;124m'\u001B[39m\u001B[38;5;124mbicgstab\u001B[39m\u001B[38;5;124m'\u001B[39m, \u001B[38;5;124m'\u001B[39m\u001B[38;5;124mcg\u001B[39m\u001B[38;5;124m'\u001B[39m, \u001B[38;5;124m'\u001B[39m\u001B[38;5;124mcgs\u001B[39m\u001B[38;5;124m'\u001B[39m, \u001B[38;5;124m'\u001B[39m\u001B[38;5;124mgmres\u001B[39m\u001B[38;5;124m'\u001B[39m, \u001B[38;5;124m'\u001B[39m\u001B[38;5;124mqmr\u001B[39m\u001B[38;5;124m'\u001B[39m]\n\u001B[0;32m     10\u001B[0m \u001B[38;5;28;01mdef\u001B[39;00m \u001B[38;5;21m_get_atol_rtol\u001B[39m(name, b_norm, atol\u001B[38;5;241m=\u001B[39m\u001B[38;5;241m0.\u001B[39m, rtol\u001B[38;5;241m=\u001B[39m\u001B[38;5;241m1e-5\u001B[39m):\n",
      "File \u001B[1;32mD:\\Programs\\Anaconda\\envs\\pymc_uni\\Lib\\site-packages\\scipy\\linalg\\__init__.py:203\u001B[0m\n\u001B[0;32m      1\u001B[0m \u001B[38;5;124;03m\"\"\"\u001B[39;00m\n\u001B[0;32m      2\u001B[0m \u001B[38;5;124;03m====================================\u001B[39;00m\n\u001B[0;32m      3\u001B[0m \u001B[38;5;124;03mLinear algebra (:mod:`scipy.linalg`)\u001B[39;00m\n\u001B[1;32m   (...)\u001B[0m\n\u001B[0;32m    200\u001B[0m \n\u001B[0;32m    201\u001B[0m \u001B[38;5;124;03m\"\"\"\u001B[39;00m  \u001B[38;5;66;03m# noqa: E501\u001B[39;00m\n\u001B[1;32m--> 203\u001B[0m \u001B[38;5;28;01mfrom\u001B[39;00m \u001B[38;5;21;01m.\u001B[39;00m\u001B[38;5;21;01m_misc\u001B[39;00m \u001B[38;5;28;01mimport\u001B[39;00m \u001B[38;5;241m*\u001B[39m\n\u001B[0;32m    204\u001B[0m \u001B[38;5;28;01mfrom\u001B[39;00m \u001B[38;5;21;01m.\u001B[39;00m\u001B[38;5;21;01m_cythonized_array_utils\u001B[39;00m \u001B[38;5;28;01mimport\u001B[39;00m \u001B[38;5;241m*\u001B[39m\n\u001B[0;32m    205\u001B[0m \u001B[38;5;28;01mfrom\u001B[39;00m \u001B[38;5;21;01m.\u001B[39;00m\u001B[38;5;21;01m_basic\u001B[39;00m \u001B[38;5;28;01mimport\u001B[39;00m \u001B[38;5;241m*\u001B[39m\n",
      "File \u001B[1;32mD:\\Programs\\Anaconda\\envs\\pymc_uni\\Lib\\site-packages\\scipy\\linalg\\_misc.py:3\u001B[0m\n\u001B[0;32m      1\u001B[0m \u001B[38;5;28;01mimport\u001B[39;00m \u001B[38;5;21;01mnumpy\u001B[39;00m \u001B[38;5;28;01mas\u001B[39;00m \u001B[38;5;21;01mnp\u001B[39;00m\n\u001B[0;32m      2\u001B[0m \u001B[38;5;28;01mfrom\u001B[39;00m \u001B[38;5;21;01mnumpy\u001B[39;00m\u001B[38;5;21;01m.\u001B[39;00m\u001B[38;5;21;01mlinalg\u001B[39;00m \u001B[38;5;28;01mimport\u001B[39;00m LinAlgError\n\u001B[1;32m----> 3\u001B[0m \u001B[38;5;28;01mfrom\u001B[39;00m \u001B[38;5;21;01m.\u001B[39;00m\u001B[38;5;21;01mblas\u001B[39;00m \u001B[38;5;28;01mimport\u001B[39;00m get_blas_funcs\n\u001B[0;32m      4\u001B[0m \u001B[38;5;28;01mfrom\u001B[39;00m \u001B[38;5;21;01m.\u001B[39;00m\u001B[38;5;21;01mlapack\u001B[39;00m \u001B[38;5;28;01mimport\u001B[39;00m get_lapack_funcs\n\u001B[0;32m      6\u001B[0m __all__ \u001B[38;5;241m=\u001B[39m [\u001B[38;5;124m'\u001B[39m\u001B[38;5;124mLinAlgError\u001B[39m\u001B[38;5;124m'\u001B[39m, \u001B[38;5;124m'\u001B[39m\u001B[38;5;124mLinAlgWarning\u001B[39m\u001B[38;5;124m'\u001B[39m, \u001B[38;5;124m'\u001B[39m\u001B[38;5;124mnorm\u001B[39m\u001B[38;5;124m'\u001B[39m]\n",
      "File \u001B[1;32mD:\\Programs\\Anaconda\\envs\\pymc_uni\\Lib\\site-packages\\scipy\\linalg\\blas.py:213\u001B[0m\n\u001B[0;32m    210\u001B[0m \u001B[38;5;28;01mimport\u001B[39;00m \u001B[38;5;21;01mnumpy\u001B[39;00m \u001B[38;5;28;01mas\u001B[39;00m \u001B[38;5;21;01mnp\u001B[39;00m\n\u001B[0;32m    211\u001B[0m \u001B[38;5;28;01mimport\u001B[39;00m \u001B[38;5;21;01mfunctools\u001B[39;00m\n\u001B[1;32m--> 213\u001B[0m \u001B[38;5;28;01mfrom\u001B[39;00m \u001B[38;5;21;01mscipy\u001B[39;00m\u001B[38;5;21;01m.\u001B[39;00m\u001B[38;5;21;01mlinalg\u001B[39;00m \u001B[38;5;28;01mimport\u001B[39;00m _fblas\n\u001B[0;32m    214\u001B[0m \u001B[38;5;28;01mtry\u001B[39;00m:\n\u001B[0;32m    215\u001B[0m     \u001B[38;5;28;01mfrom\u001B[39;00m \u001B[38;5;21;01mscipy\u001B[39;00m\u001B[38;5;21;01m.\u001B[39;00m\u001B[38;5;21;01mlinalg\u001B[39;00m \u001B[38;5;28;01mimport\u001B[39;00m _cblas\n",
      "\u001B[1;31mImportError\u001B[0m: DLL load failed while importing _fblas: The specified module could not be found."
     ]
    }
   ],
   "source": [
    "import numpy as np\n",
    "import tensorflow as tf\n",
    "import pandas as pd\n",
    "import matplotlib.pyplot as plt\n",
    "from scipy.stats import spearmanr\n",
    "from tensorflow.keras.layers import TextVectorization, Embedding, LSTM, Dense, Dropout, Bidirectional, GlobalAveragePooling1D, BatchNormalization\n",
    "from tensorflow.keras.preprocessing.text import Tokenizer\n",
    "from tensorflow.keras.preprocessing.sequence import pad_sequences\n",
    "from tensorflow.keras.regularizers import l2\n",
    "from tensorflow.keras.models import load_model\n",
    "import re"
   ]
  },
  {
   "cell_type": "code",
   "execution_count": 2,
   "outputs": [
    {
     "name": "stdout",
     "output_type": "stream",
     "text": [
      "Num GPUs Available:  0\n",
      "Available GPUs:  []\n"
     ]
    }
   ],
   "source": [
    "print(\"Num GPUs Available: \", len(tf.config.list_physical_devices('GPU')))\n",
    "print(\"Available GPUs: \", tf.config.list_physical_devices('GPU'))\n",
    "\n",
    "tf.debugging.set_log_device_placement(False)"
   ],
   "metadata": {
    "collapsed": false,
    "ExecuteTime": {
     "end_time": "2024-12-14T08:43:05.592263200Z",
     "start_time": "2024-12-14T08:43:05.589262100Z"
    }
   },
   "id": "667dae2db6a455fa"
  },
  {
   "cell_type": "markdown",
   "source": [
    "# Importing and visualizing data\n",
    "\n",
    "Visualizing the columns of train, test and validation data"
   ],
   "metadata": {
    "collapsed": false
   },
   "id": "b13d083ef982d89"
  },
  {
   "cell_type": "code",
   "execution_count": null,
   "outputs": [],
   "source": [
    "train_data = pd.read_csv(\"data/train.csv\")\n",
    "val_data = pd.read_csv(\"data/val.csv\")\n",
    "test_data = pd.read_csv(\"data/test.csv\")"
   ],
   "metadata": {
    "collapsed": false,
    "ExecuteTime": {
     "start_time": "2024-12-20T12:05:21.644572700Z"
    }
   },
   "id": "fd8b4de1d610ec05"
  },
  {
   "cell_type": "code",
   "execution_count": null,
   "outputs": [],
   "source": [
    "train_data.head()"
   ],
   "metadata": {
    "collapsed": false,
    "ExecuteTime": {
     "end_time": "2024-12-20T12:05:21.650573Z",
     "start_time": "2024-12-20T12:05:21.645573200Z"
    }
   },
   "id": "7ad2cfa5e11e0d09"
  },
  {
   "cell_type": "code",
   "execution_count": null,
   "outputs": [],
   "source": [
    "val_data.head()"
   ],
   "metadata": {
    "collapsed": false,
    "ExecuteTime": {
     "start_time": "2024-12-20T12:05:21.648572900Z"
    }
   },
   "id": "5c11050aca15e769"
  },
  {
   "cell_type": "code",
   "execution_count": null,
   "outputs": [],
   "source": [
    "test_data.head()"
   ],
   "metadata": {
    "collapsed": false,
    "ExecuteTime": {
     "end_time": "2024-12-20T12:05:21.652572500Z",
     "start_time": "2024-12-20T12:05:21.651572400Z"
    }
   },
   "id": "c34b9298a1741188"
  },
  {
   "cell_type": "code",
   "execution_count": null,
   "outputs": [],
   "source": [
    "scores = train_data['score']\n",
    "\n",
    "plt.figure(figsize=(8, 6))\n",
    "plt.hist(scores, bins=int((scores.max() - scores.min()) / 0.25), edgecolor='black', color='skyblue')\n",
    "plt.title(\"Histogram of Train Data Scores\", fontsize=16)\n",
    "plt.xlabel(\"Score\", fontsize=14)\n",
    "plt.ylabel(\"Frequency\", fontsize=14)\n",
    "plt.grid(axis='y', linestyle='--', alpha=0.7)\n",
    "plt.show()"
   ],
   "metadata": {
    "collapsed": false,
    "ExecuteTime": {
     "end_time": "2024-12-20T12:05:21.668608900Z",
     "start_time": "2024-12-20T12:05:21.652572500Z"
    }
   },
   "id": "568992266297313"
  },
  {
   "cell_type": "code",
   "execution_count": null,
   "outputs": [],
   "source": [
    "scores = val_data['score']\n",
    "\n",
    "plt.figure(figsize=(8, 6))\n",
    "plt.hist(scores, bins=int((scores.max() - scores.min()) / 0.25), edgecolor='black', color='skyblue')\n",
    "plt.title(\"Histogram of Validation Data Scores\", fontsize=16)\n",
    "plt.xlabel(\"Score\", fontsize=14)\n",
    "plt.ylabel(\"Frequency\", fontsize=14)\n",
    "plt.grid(axis='y', linestyle='--', alpha=0.7)\n",
    "plt.show()"
   ],
   "metadata": {
    "collapsed": false,
    "ExecuteTime": {
     "start_time": "2024-12-20T12:05:21.655572100Z"
    }
   },
   "id": "94b3c7c4dd28cbf3"
  },
  {
   "cell_type": "markdown",
   "source": [
    "# Processing data\n",
    "\n",
    "We first split training and validation data into features and labels.\n",
    "Steps required to preprocess data -> standardization (getting to mean 0 and var 1)"
   ],
   "metadata": {
    "collapsed": false
   },
   "id": "e76c3c3feb6a26b6"
  },
  {
   "cell_type": "code",
   "execution_count": 2,
   "outputs": [
    {
     "ename": "NameError",
     "evalue": "name 'train_data' is not defined",
     "output_type": "error",
     "traceback": [
      "\u001B[1;31m---------------------------------------------------------------------------\u001B[0m",
      "\u001B[1;31mNameError\u001B[0m                                 Traceback (most recent call last)",
      "Cell \u001B[1;32mIn[2], line 1\u001B[0m\n\u001B[1;32m----> 1\u001B[0m train_texts, train_scores \u001B[38;5;241m=\u001B[39m \u001B[43mtrain_data\u001B[49m[\u001B[38;5;124m\"\u001B[39m\u001B[38;5;124mtext\u001B[39m\u001B[38;5;124m\"\u001B[39m], train_data[\u001B[38;5;124m\"\u001B[39m\u001B[38;5;124mscore\u001B[39m\u001B[38;5;124m\"\u001B[39m]\n\u001B[0;32m      2\u001B[0m val_texts, val_scores \u001B[38;5;241m=\u001B[39m val_data[\u001B[38;5;124m\"\u001B[39m\u001B[38;5;124mtext\u001B[39m\u001B[38;5;124m\"\u001B[39m], val_data[\u001B[38;5;124m\"\u001B[39m\u001B[38;5;124mscore\u001B[39m\u001B[38;5;124m\"\u001B[39m]\n",
      "\u001B[1;31mNameError\u001B[0m: name 'train_data' is not defined"
     ]
    }
   ],
   "source": [
    "train_texts, train_scores = train_data[\"text\"], train_data[\"score\"]\n",
    "val_texts, val_scores = val_data[\"text\"], val_data[\"score\"]"
   ],
   "metadata": {
    "collapsed": false,
    "ExecuteTime": {
     "end_time": "2024-12-20T12:05:27.128243300Z",
     "start_time": "2024-12-20T12:05:27.089886800Z"
    }
   },
   "id": "69fa022ee1497950"
  },
  {
   "cell_type": "code",
   "execution_count": 11,
   "outputs": [],
   "source": [
    "test_texts = test_data[\"text\"]\n",
    "test_ids = test_data[\"id\"]"
   ],
   "metadata": {
    "collapsed": false,
    "ExecuteTime": {
     "end_time": "2024-12-16T10:26:52.992637200Z",
     "start_time": "2024-12-16T10:26:52.944121400Z"
    }
   },
   "id": "13dc4ec53b52e491"
  },
  {
   "cell_type": "code",
   "execution_count": 12,
   "outputs": [
    {
     "name": "stdout",
     "output_type": "stream",
     "text": [
      "0.5207909438130168 0.4804607335511433 0.8170724587154942 0.8145994110809934\n"
     ]
    }
   ],
   "source": [
    "train_scores_mean = np.mean(train_scores)\n",
    "val_scores_mean = np.mean(val_scores)\n",
    "train_scores_std = np.std(train_scores)\n",
    "val_scores_std = np.std(val_scores)\n",
    "\n",
    "print(train_scores_mean, val_scores_mean, train_scores_std, val_scores_std)\n",
    "\n",
    "train_scores_standardized = (train_scores-train_scores_mean)/train_scores_std\n",
    "val_scores_standardized = (val_scores-val_scores_mean)/val_scores_std"
   ],
   "metadata": {
    "collapsed": false,
    "ExecuteTime": {
     "end_time": "2024-12-16T10:26:53.532181300Z",
     "start_time": "2024-12-16T10:26:53.477814400Z"
    }
   },
   "id": "b66a3336cc901b72"
  },
  {
   "cell_type": "code",
   "execution_count": 13,
   "outputs": [
    {
     "data": {
      "text/plain": "0   -1.453308\n1   -0.637386\n2    0.994456\n3    1.402416\n4   -0.331416\nName: score, dtype: float64"
     },
     "execution_count": 13,
     "metadata": {},
     "output_type": "execute_result"
    }
   ],
   "source": [
    "train_scores_standardized.head()"
   ],
   "metadata": {
    "collapsed": false,
    "ExecuteTime": {
     "end_time": "2024-12-16T10:26:54.662694900Z",
     "start_time": "2024-12-16T10:26:54.621697100Z"
    }
   },
   "id": "8daa66b17a52480e"
  },
  {
   "cell_type": "code",
   "execution_count": 14,
   "outputs": [
    {
     "data": {
      "text/plain": "0   -0.896712\n1    1.333423\n2    0.944684\n3   -1.612810\n4   -0.589812\nName: score, dtype: float64"
     },
     "execution_count": 14,
     "metadata": {},
     "output_type": "execute_result"
    }
   ],
   "source": [
    "val_scores_standardized.head()"
   ],
   "metadata": {
    "collapsed": false,
    "ExecuteTime": {
     "end_time": "2024-12-16T10:26:55.273066200Z",
     "start_time": "2024-12-16T10:26:55.223542Z"
    }
   },
   "id": "13683c6f314e9d86"
  },
  {
   "cell_type": "markdown",
   "source": [
    "# Text vectorization\n",
    "\n",
    "Since many words are repeating and some have a strong influence on the visual score of the sentence, it makes sense to quantify (vectorize) the text data"
   ],
   "metadata": {
    "collapsed": false
   },
   "id": "5c331e4d69830ec9"
  },
  {
   "cell_type": "code",
   "execution_count": null,
   "outputs": [],
   "source": [
    "train_texts[0]"
   ],
   "metadata": {
    "collapsed": false
   },
   "id": "cd63b2a43fd16e55"
  },
  {
   "cell_type": "code",
   "execution_count": 15,
   "outputs": [],
   "source": [
    "max_tokens = 20000 # Vocabulary size (max amount of unique words in set)\n",
    "sequence_length = 100 # Sequence length for padding (max amount of unique words in a sentence)\n",
    "\n",
    "vectorizer = TextVectorization(max_tokens=max_tokens, output_sequence_length=sequence_length)\n",
    "vectorizer.adapt(train_texts)\n",
    "\n",
    "vectorizer(train_texts[0])"
   ],
   "metadata": {
    "collapsed": false,
    "ExecuteTime": {
     "end_time": "2024-12-16T10:26:56.818096800Z",
     "start_time": "2024-12-16T10:26:56.662984700Z"
    }
   },
   "id": "d118e1011f5aa7ff"
  },
  {
   "cell_type": "code",
   "execution_count": null,
   "outputs": [],
   "source": [
    "max_tokens = 20000 \n",
    "sequence_length = 100 \n",
    "\n",
    "vectorizer = TextVectorization(\n",
    "    max_tokens=max_tokens, \n",
    "    output_sequence_length=sequence_length, \n",
    "    standardize=\"lower_and_strip_punctuation\",\n",
    "    split=\"whitespace\"\n",
    ") \n",
    "vectorizer.adapt(training_texts)\n",
    "\n",
    "vectorizer(training_texts[0])"
   ],
   "metadata": {
    "collapsed": false
   },
   "id": "cd038af96cf9babd"
  },
  {
   "cell_type": "markdown",
   "source": [
    "# Write the model\n",
    "\n"
   ],
   "metadata": {
    "collapsed": false
   },
   "id": "2931da56930f351b"
  },
  {
   "cell_type": "code",
   "execution_count": 65,
   "outputs": [],
   "source": [
    "embedding_dimmension = 128\n",
    "tf.random.set_seed(42)\n",
    "\n",
    "lr_schedule = tf.keras.optimizers.schedules.ExponentialDecay(\n",
    "    initial_learning_rate=1e-3,\n",
    "    decay_steps=100000,\n",
    "    decay_rate=0.96,\n",
    "    staircase=True\n",
    ")\n",
    "\n",
    "model = tf.keras.Sequential([\n",
    "    vectorizer,\n",
    "    Embedding(input_dim=max_tokens, output_dim=embedding_dimmension, mask_zero=True),\n",
    "    Bidirectional(LSTM(128, return_sequences=True, dropout=0.5, recurrent_regularizer=tf.keras.regularizers.l2(0.01), kernel_regularizer=tf.keras.regularizers.l2(0.01))),\n",
    "    GlobalAveragePooling1D(),\n",
    "    Dense(64, activation=\"relu\", kernel_regularizer=tf.keras.regularizers.l2(0.03)),\n",
    "    Dropout(0.5),\n",
    "    Dense(1)  \n",
    "])\n",
    "\n",
    "model.compile(\n",
    "    loss=\"mse\",\n",
    "    optimizer=tf.keras.optimizers.Adam(learning_rate=lr_schedule),\n",
    "    metrics=[\"mae\"]\n",
    ")\n",
    "\n",
    "history = model.fit(\n",
    "    training_texts,\n",
    "    training_scores,\n",
    "    validation_data=(validation_texts, validation_scores),\n",
    "    epochs=18,\n",
    "    batch_size=32\n",
    ")"
   ],
   "metadata": {
    "collapsed": false,
    "ExecuteTime": {
     "end_time": "2024-12-16T17:40:16.121892400Z",
     "start_time": "2024-12-16T17:40:16.099894600Z"
    }
   },
   "id": "3a75d4d78b9f7cfd"
  },
  {
   "cell_type": "code",
   "execution_count": 67,
   "outputs": [
    {
     "name": "stdout",
     "output_type": "stream",
     "text": [
      "Epoch 1/18\n"
     ]
    },
    {
     "name": "stderr",
     "output_type": "stream",
     "text": [
      "D:\\Programs\\Anaconda\\envs\\pymc_uni\\Lib\\site-packages\\keras\\src\\layers\\layer.py:932: UserWarning: Layer 'conv1d_51' (of type Conv1D) was passed an input with a mask attached to it. However, this layer does not support masking and will therefore destroy the mask information. Downstream layers will not see the mask.\n",
      "  warnings.warn(\n"
     ]
    },
    {
     "name": "stdout",
     "output_type": "stream",
     "text": [
      "\u001B[1m250/250\u001B[0m \u001B[32m━━━━━━━━━━━━━━━━━━━━\u001B[0m\u001B[37m\u001B[0m \u001B[1m0s\u001B[0m 119ms/step - loss: 4.9752 - mae: 0.8646"
     ]
    },
    {
     "name": "stderr",
     "output_type": "stream",
     "text": [
      "D:\\Programs\\Anaconda\\envs\\pymc_uni\\Lib\\site-packages\\keras\\src\\layers\\layer.py:932: UserWarning: Layer 'conv1d_51' (of type Conv1D) was passed an input with a mask attached to it. However, this layer does not support masking and will therefore destroy the mask information. Downstream layers will not see the mask.\n",
      "  warnings.warn(\n"
     ]
    },
    {
     "name": "stdout",
     "output_type": "stream",
     "text": [
      "\u001B[1m250/250\u001B[0m \u001B[32m━━━━━━━━━━━━━━━━━━━━\u001B[0m\u001B[37m\u001B[0m \u001B[1m44s\u001B[0m 132ms/step - loss: 4.9725 - mae: 0.8643 - val_loss: 3.3645 - val_mae: 0.7446\n",
      "Epoch 2/18\n",
      "\u001B[1m250/250\u001B[0m \u001B[32m━━━━━━━━━━━━━━━━━━━━\u001B[0m\u001B[37m\u001B[0m \u001B[1m31s\u001B[0m 124ms/step - loss: 3.0567 - mae: 0.7355 - val_loss: 2.2532 - val_mae: 0.7045\n",
      "Epoch 3/18\n",
      "\u001B[1m250/250\u001B[0m \u001B[32m━━━━━━━━━━━━━━━━━━━━\u001B[0m\u001B[37m\u001B[0m \u001B[1m30s\u001B[0m 120ms/step - loss: 2.0752 - mae: 0.7097 - val_loss: 1.5588 - val_mae: 0.6126\n",
      "Epoch 4/18\n",
      "\u001B[1m250/250\u001B[0m \u001B[32m━━━━━━━━━━━━━━━━━━━━\u001B[0m\u001B[37m\u001B[0m \u001B[1m32s\u001B[0m 129ms/step - loss: 1.4494 - mae: 0.5763 - val_loss: 1.2800 - val_mae: 0.5540\n",
      "Epoch 5/18\n",
      "\u001B[1m250/250\u001B[0m \u001B[32m━━━━━━━━━━━━━━━━━━━━\u001B[0m\u001B[37m\u001B[0m \u001B[1m32s\u001B[0m 128ms/step - loss: 1.1101 - mae: 0.4591 - val_loss: 1.1771 - val_mae: 0.5354\n",
      "Epoch 6/18\n",
      "\u001B[1m250/250\u001B[0m \u001B[32m━━━━━━━━━━━━━━━━━━━━\u001B[0m\u001B[37m\u001B[0m \u001B[1m30s\u001B[0m 121ms/step - loss: 0.9780 - mae: 0.4107 - val_loss: 1.1780 - val_mae: 0.5368\n",
      "Epoch 7/18\n",
      "\u001B[1m250/250\u001B[0m \u001B[32m━━━━━━━━━━━━━━━━━━━━\u001B[0m\u001B[37m\u001B[0m \u001B[1m31s\u001B[0m 124ms/step - loss: 0.9123 - mae: 0.4581 - val_loss: 0.8248 - val_mae: 0.5706\n",
      "Epoch 8/18\n",
      "\u001B[1m250/250\u001B[0m \u001B[32m━━━━━━━━━━━━━━━━━━━━\u001B[0m\u001B[37m\u001B[0m \u001B[1m30s\u001B[0m 121ms/step - loss: 0.5499 - mae: 0.4096 - val_loss: 0.6885 - val_mae: 0.5764\n",
      "Epoch 9/18\n",
      "\u001B[1m250/250\u001B[0m \u001B[32m━━━━━━━━━━━━━━━━━━━━\u001B[0m\u001B[37m\u001B[0m \u001B[1m31s\u001B[0m 122ms/step - loss: 0.3631 - mae: 0.3618 - val_loss: 0.5991 - val_mae: 0.5486\n",
      "Epoch 10/18\n",
      "\u001B[1m250/250\u001B[0m \u001B[32m━━━━━━━━━━━━━━━━━━━━\u001B[0m\u001B[37m\u001B[0m \u001B[1m31s\u001B[0m 124ms/step - loss: 0.2792 - mae: 0.3408 - val_loss: 0.5769 - val_mae: 0.5495\n",
      "Epoch 11/18\n",
      "\u001B[1m250/250\u001B[0m \u001B[32m━━━━━━━━━━━━━━━━━━━━\u001B[0m\u001B[37m\u001B[0m \u001B[1m32s\u001B[0m 128ms/step - loss: 0.2184 - mae: 0.3142 - val_loss: 0.5518 - val_mae: 0.5414\n",
      "Epoch 12/18\n",
      "\u001B[1m250/250\u001B[0m \u001B[32m━━━━━━━━━━━━━━━━━━━━\u001B[0m\u001B[37m\u001B[0m \u001B[1m38s\u001B[0m 116ms/step - loss: 0.1774 - mae: 0.2868 - val_loss: 0.5828 - val_mae: 0.5541\n",
      "Epoch 13/18\n",
      "\u001B[1m250/250\u001B[0m \u001B[32m━━━━━━━━━━━━━━━━━━━━\u001B[0m\u001B[37m\u001B[0m \u001B[1m33s\u001B[0m 130ms/step - loss: 0.1504 - mae: 0.2660 - val_loss: 0.5538 - val_mae: 0.5556\n",
      "Epoch 14/18\n",
      "\u001B[1m250/250\u001B[0m \u001B[32m━━━━━━━━━━━━━━━━━━━━\u001B[0m\u001B[37m\u001B[0m \u001B[1m32s\u001B[0m 128ms/step - loss: 0.1298 - mae: 0.2487 - val_loss: 0.5404 - val_mae: 0.5446\n",
      "Epoch 15/18\n",
      "\u001B[1m250/250\u001B[0m \u001B[32m━━━━━━━━━━━━━━━━━━━━\u001B[0m\u001B[37m\u001B[0m \u001B[1m31s\u001B[0m 124ms/step - loss: 0.1144 - mae: 0.2303 - val_loss: 0.5523 - val_mae: 0.5457\n",
      "Epoch 16/18\n",
      "\u001B[1m250/250\u001B[0m \u001B[32m━━━━━━━━━━━━━━━━━━━━\u001B[0m\u001B[37m\u001B[0m \u001B[1m30s\u001B[0m 120ms/step - loss: 0.1049 - mae: 0.2172 - val_loss: 0.5593 - val_mae: 0.5486\n",
      "Epoch 17/18\n",
      "\u001B[1m250/250\u001B[0m \u001B[32m━━━━━━━━━━━━━━━━━━━━\u001B[0m\u001B[37m\u001B[0m \u001B[1m28s\u001B[0m 110ms/step - loss: 0.0990 - mae: 0.2084 - val_loss: 0.5551 - val_mae: 0.5500\n",
      "Epoch 18/18\n",
      "\u001B[1m250/250\u001B[0m \u001B[32m━━━━━━━━━━━━━━━━━━━━\u001B[0m\u001B[37m\u001B[0m \u001B[1m21s\u001B[0m 86ms/step - loss: 0.0970 - mae: 0.2058 - val_loss: 0.5595 - val_mae: 0.5508\n"
     ]
    }
   ],
   "source": [
    "embedding_dimmension = 128\n",
    "tf.random.set_seed(42)\n",
    "\n",
    "lr_schedule = tf.keras.optimizers.schedules.CosineDecayRestarts(\n",
    "    initial_learning_rate=0.001,\n",
    "    first_decay_steps=1500,\n",
    "    t_mul=2.0,\n",
    "    m_mul=0.9,\n",
    ")\n",
    "\n",
    "model = tf.keras.Sequential([\n",
    "    vectorizer,\n",
    "    Embedding(input_dim=max_tokens, output_dim=embedding_dimmension, mask_zero=True),\n",
    "\n",
    "    tf.keras.layers.Conv1D(filters=128, kernel_size=5, activation=\"relu\", padding=\"same\"),\n",
    "    tf.keras.layers.Conv1D(filters=64, kernel_size=5, activation=\"relu\", padding=\"same\"),\n",
    "    tf.keras.layers.BatchNormalization(),\n",
    "    tf.keras.layers.MaxPooling1D(pool_size=2),\n",
    "    tf.keras.layers.Dropout(0.4),\n",
    "    tf.keras.layers.Conv1D(filters=128, kernel_size=5, activation=\"relu\", padding=\"same\"),\n",
    "    tf.keras.layers.Conv1D(filters=64, kernel_size=5, activation=\"relu\", padding=\"same\"),\n",
    "    tf.keras.layers.BatchNormalization(),\n",
    "    tf.keras.layers.MaxPooling1D(pool_size=2),\n",
    "    tf.keras.layers.Dropout(0.4),\n",
    "    \n",
    "    tf.keras.layers.Bidirectional(tf.keras.layers.LSTM(256, return_sequences=True, dropout=0.3, recurrent_dropout=0.3)),\n",
    "    tf.keras.layers.LayerNormalization(),\n",
    "\n",
    "    tf.keras.layers.Bidirectional(tf.keras.layers.GRU(128, return_sequences=False, dropout=0.3)),\n",
    "    tf.keras.layers.LayerNormalization(),\n",
    "\n",
    "    tf.keras.layers.Dense(128, activation=\"relu\", kernel_regularizer=tf.keras.regularizers.l2(0.03)),\n",
    "    tf.keras.layers.Dropout(0.4),\n",
    "    tf.keras.layers.Dense(64, activation=\"relu\", kernel_regularizer=tf.keras.regularizers.l2(0.03)),\n",
    "    tf.keras.layers.Dropout(0.4),\n",
    "    \n",
    "    tf.keras.layers.Dense(1)\n",
    "])\n",
    "\n",
    "model.compile(\n",
    "    loss=\"mse\",\n",
    "    optimizer=tf.keras.optimizers.Adam(learning_rate=lr_schedule),\n",
    "    metrics=[\"mae\"]\n",
    ")\n",
    "\n",
    "history = model.fit(\n",
    "    training_texts,\n",
    "    training_scores,\n",
    "    validation_data=(validation_texts, validation_scores),\n",
    "    epochs=18,\n",
    "    batch_size=32\n",
    ")"
   ],
   "metadata": {
    "collapsed": false,
    "ExecuteTime": {
     "end_time": "2024-12-16T18:08:17.386308500Z",
     "start_time": "2024-12-16T17:58:49.730675800Z"
    }
   },
   "id": "61e0aa66a42adaac"
  },
  {
   "cell_type": "markdown",
   "source": [
    "# Predictions\n",
    "\n",
    "Predict the scores of the test data and prepare file for submission"
   ],
   "metadata": {
    "collapsed": false
   },
   "id": "b62cb807bb08bbf4"
  },
  {
   "cell_type": "code",
   "execution_count": 56,
   "outputs": [
    {
     "name": "stdout",
     "output_type": "stream",
     "text": [
      "\u001B[1m16/16\u001B[0m \u001B[32m━━━━━━━━━━━━━━━━━━━━\u001B[0m\u001B[37m\u001B[0m \u001B[1m1s\u001B[0m 37ms/step\n"
     ]
    },
    {
     "data": {
      "text/plain": "array([[ 1.6239247 ],\n       [-0.12132064],\n       [-0.04436755],\n       [ 0.8154024 ],\n       [ 0.908679  ]], dtype=float32)"
     },
     "execution_count": 56,
     "metadata": {},
     "output_type": "execute_result"
    }
   ],
   "source": [
    "prediction_scores = model.predict(test_texts) \n",
    "prediction_scores[0:5]"
   ],
   "metadata": {
    "collapsed": false,
    "ExecuteTime": {
     "end_time": "2024-12-16T12:46:45.558939Z",
     "start_time": "2024-12-16T12:46:44.875439400Z"
    }
   },
   "id": "e27b4356c7467d6d"
  },
  {
   "cell_type": "code",
   "execution_count": 57,
   "outputs": [
    {
     "data": {
      "text/plain": "<Figure size 800x600 with 1 Axes>",
      "image/png": "[encoded data removed]"
     },
     "metadata": {},
     "output_type": "display_data"
    }
   ],
   "source": [
    "plt.figure(figsize=(8, 6))\n",
    "plt.hist(scores, bins=int((prediction_scores.max() - prediction_scores.min()) / 0.25), edgecolor='black', color='skyblue')\n",
    "plt.title(\"Histogram of Test Data Scores\", fontsize=16)\n",
    "plt.xlabel(\"Score\", fontsize=14)\n",
    "plt.ylabel(\"Frequency\", fontsize=14)\n",
    "plt.grid(axis='y', linestyle='--', alpha=0.7)\n",
    "plt.show()"
   ],
   "metadata": {
    "collapsed": false,
    "ExecuteTime": {
     "end_time": "2024-12-16T12:46:46.854638900Z",
     "start_time": "2024-12-16T12:46:46.691894500Z"
    }
   },
   "id": "6a66ab9d19644327"
  },
  {
   "cell_type": "code",
   "execution_count": 58,
   "outputs": [
    {
     "name": "stderr",
     "output_type": "stream",
     "text": [
      "WARNING:absl:You are saving your model as an HDF5 file via `model.save()` or `keras.saving.save_model(model)`. This file format is considered legacy. We recommend using instead the native Keras format, e.g. `model.save('my_model.keras')` or `keras.saving.save_model(model, 'my_model.keras')`. \n"
     ]
    }
   ],
   "source": [
    "output_df = pd.DataFrame({\n",
    "    \"id\": np.array(test_ids).flatten(),\n",
    "    \"score\": prediction_scores.flatten()\n",
    "})\n",
    "\n",
    "output_df.to_csv(\"saves/submission28.csv\", index=False)\n",
    "model.save(\"saves/model28.h5\")"
   ],
   "metadata": {
    "collapsed": false,
    "ExecuteTime": {
     "end_time": "2024-12-16T12:47:03.844080300Z",
     "start_time": "2024-12-16T12:47:03.639706200Z"
    }
   },
   "id": "7228e8e88a29214c"
  },
  {
   "cell_type": "markdown",
   "source": [
    "# Evaluate"
   ],
   "metadata": {
    "collapsed": false
   },
   "id": "6cc85f134d7284fb"
  },
  {
   "cell_type": "code",
   "execution_count": 68,
   "outputs": [
    {
     "name": "stderr",
     "output_type": "stream",
     "text": [
      "D:\\Programs\\Anaconda\\envs\\pymc_uni\\Lib\\site-packages\\keras\\src\\layers\\layer.py:932: UserWarning: Layer 'conv1d_51' (of type Conv1D) was passed an input with a mask attached to it. However, this layer does not support masking and will therefore destroy the mask information. Downstream layers will not see the mask.\n",
      "  warnings.warn(\n"
     ]
    },
    {
     "name": "stdout",
     "output_type": "stream",
     "text": [
      "\u001B[1m16/16\u001B[0m \u001B[32m━━━━━━━━━━━━━━━━━━━━\u001B[0m\u001B[37m\u001B[0m \u001B[1m2s\u001B[0m 82ms/step\n",
      "Validation Spearman's rank correlation: 0.5300654790010412\n"
     ]
    }
   ],
   "source": [
    "# Now, during the evaluation, you can reverse the standardization manually:\n",
    "def evaluate_spearman(model, texts, true_scores):\n",
    "    predictions = model.predict(texts).flatten()\n",
    "\n",
    "    # Reverse scaling manually\n",
    "    predictions = predictions \n",
    "    true_scores = true_scores\n",
    "    \n",
    "    # Calculate Spearman correlation\n",
    "    spearman_corr, _ = spearmanr(predictions, true_scores)\n",
    "    return spearman_corr\n",
    "\n",
    "# Spearman correlation on validation set\n",
    "val_spearman = evaluate_spearman(model, val_texts, val_scores)\n",
    "print(f\"Validation Spearman's rank correlation: {val_spearman}\")"
   ],
   "metadata": {
    "collapsed": false,
    "ExecuteTime": {
     "end_time": "2024-12-16T18:09:04.077734500Z",
     "start_time": "2024-12-16T18:09:01.571564100Z"
    }
   },
   "id": "115efffa1312261d"
  },
  {
   "cell_type": "markdown",
   "source": [
    "# Load a specific model from saved ones"
   ],
   "metadata": {
    "collapsed": false
   },
   "id": "402c13799ebeee78"
  },
  {
   "cell_type": "code",
   "execution_count": 59,
   "outputs": [
    {
     "name": "stderr",
     "output_type": "stream",
     "text": [
      "D:\\Programs\\Anaconda\\envs\\pymc_uni\\Lib\\site-packages\\keras\\src\\layers\\layer.py:932: UserWarning: Layer 'conv1d_31' (of type Conv1D) was passed an input with a mask attached to it. However, this layer does not support masking and will therefore destroy the mask information. Downstream layers will not see the mask.\n",
      "  warnings.warn(\n"
     ]
    },
    {
     "data": {
      "text/plain": "\u001B[1mModel: \"sequential_10\"\u001B[0m\n",
      "text/html": "<pre style=\"white-space:pre;overflow-x:auto;line-height:normal;font-family:Menlo,'DejaVu Sans Mono',consolas,'Courier New',monospace\"><span style=\"font-weight: bold\">Model: \"sequential_10\"</span>\n</pre>\n"
     },
     "metadata": {},
     "output_type": "display_data"
    },
    {
     "data": {
      "text/plain": "┏━━━━━━━━━━━━━━━━━━━━━━━━━━━━━━━━━┳━━━━━━━━━━━━━━━━━━━━━━━━┳━━━━━━━━━━━━━━━┓\n┃\u001B[1m \u001B[0m\u001B[1mLayer (type)                   \u001B[0m\u001B[1m \u001B[0m┃\u001B[1m \u001B[0m\u001B[1mOutput Shape          \u001B[0m\u001B[1m \u001B[0m┃\u001B[1m \u001B[0m\u001B[1m      Param #\u001B[0m\u001B[1m \u001B[0m┃\n┡━━━━━━━━━━━━━━━━━━━━━━━━━━━━━━━━━╇━━━━━━━━━━━━━━━━━━━━━━━━╇━━━━━━━━━━━━━━━┩\n│ text_vectorization              │ (\u001B[38;5;34m32\u001B[0m, \u001B[38;5;34m100\u001B[0m)              │             \u001B[38;5;34m0\u001B[0m │\n│ (\u001B[38;5;33mTextVectorization\u001B[0m)             │                        │               │\n├─────────────────────────────────┼────────────────────────┼───────────────┤\n│ embedding_14 (\u001B[38;5;33mEmbedding\u001B[0m)        │ (\u001B[38;5;34m32\u001B[0m, \u001B[38;5;34m100\u001B[0m, \u001B[38;5;34m128\u001B[0m)         │     \u001B[38;5;34m2,560,000\u001B[0m │\n├─────────────────────────────────┼────────────────────────┼───────────────┤\n│ conv1d_31 (\u001B[38;5;33mConv1D\u001B[0m)              │ (\u001B[38;5;34m32\u001B[0m, \u001B[38;5;34m100\u001B[0m, \u001B[38;5;34m128\u001B[0m)         │        \u001B[38;5;34m82,048\u001B[0m │\n├─────────────────────────────────┼────────────────────────┼───────────────┤\n│ conv1d_32 (\u001B[38;5;33mConv1D\u001B[0m)              │ (\u001B[38;5;34m32\u001B[0m, \u001B[38;5;34m100\u001B[0m, \u001B[38;5;34m64\u001B[0m)          │        \u001B[38;5;34m41,024\u001B[0m │\n├─────────────────────────────────┼────────────────────────┼───────────────┤\n│ batch_normalization_17          │ (\u001B[38;5;34m32\u001B[0m, \u001B[38;5;34m100\u001B[0m, \u001B[38;5;34m64\u001B[0m)          │           \u001B[38;5;34m256\u001B[0m │\n│ (\u001B[38;5;33mBatchNormalization\u001B[0m)            │                        │               │\n├─────────────────────────────────┼────────────────────────┼───────────────┤\n│ max_pooling1d_17 (\u001B[38;5;33mMaxPooling1D\u001B[0m) │ (\u001B[38;5;34m32\u001B[0m, \u001B[38;5;34m50\u001B[0m, \u001B[38;5;34m64\u001B[0m)           │             \u001B[38;5;34m0\u001B[0m │\n├─────────────────────────────────┼────────────────────────┼───────────────┤\n│ conv1d_33 (\u001B[38;5;33mConv1D\u001B[0m)              │ (\u001B[38;5;34m32\u001B[0m, \u001B[38;5;34m50\u001B[0m, \u001B[38;5;34m128\u001B[0m)          │        \u001B[38;5;34m41,088\u001B[0m │\n├─────────────────────────────────┼────────────────────────┼───────────────┤\n│ conv1d_34 (\u001B[38;5;33mConv1D\u001B[0m)              │ (\u001B[38;5;34m32\u001B[0m, \u001B[38;5;34m50\u001B[0m, \u001B[38;5;34m64\u001B[0m)           │        \u001B[38;5;34m41,024\u001B[0m │\n├─────────────────────────────────┼────────────────────────┼───────────────┤\n│ batch_normalization_18          │ (\u001B[38;5;34m32\u001B[0m, \u001B[38;5;34m50\u001B[0m, \u001B[38;5;34m64\u001B[0m)           │           \u001B[38;5;34m256\u001B[0m │\n│ (\u001B[38;5;33mBatchNormalization\u001B[0m)            │                        │               │\n├─────────────────────────────────┼────────────────────────┼───────────────┤\n│ max_pooling1d_18 (\u001B[38;5;33mMaxPooling1D\u001B[0m) │ (\u001B[38;5;34m32\u001B[0m, \u001B[38;5;34m25\u001B[0m, \u001B[38;5;34m64\u001B[0m)           │             \u001B[38;5;34m0\u001B[0m │\n├─────────────────────────────────┼────────────────────────┼───────────────┤\n│ bidirectional_12                │ (\u001B[38;5;34m32\u001B[0m, \u001B[38;5;34m25\u001B[0m, \u001B[38;5;34m256\u001B[0m)          │       \u001B[38;5;34m197,632\u001B[0m │\n│ (\u001B[38;5;33mBidirectional\u001B[0m)                 │                        │               │\n├─────────────────────────────────┼────────────────────────┼───────────────┤\n│ layer_normalization_11          │ (\u001B[38;5;34m32\u001B[0m, \u001B[38;5;34m25\u001B[0m, \u001B[38;5;34m256\u001B[0m)          │           \u001B[38;5;34m512\u001B[0m │\n│ (\u001B[38;5;33mLayerNormalization\u001B[0m)            │                        │               │\n├─────────────────────────────────┼────────────────────────┼───────────────┤\n│ bidirectional_13                │ (\u001B[38;5;34m32\u001B[0m, \u001B[38;5;34m128\u001B[0m)              │       \u001B[38;5;34m123,648\u001B[0m │\n│ (\u001B[38;5;33mBidirectional\u001B[0m)                 │                        │               │\n├─────────────────────────────────┼────────────────────────┼───────────────┤\n│ layer_normalization_12          │ (\u001B[38;5;34m32\u001B[0m, \u001B[38;5;34m128\u001B[0m)              │           \u001B[38;5;34m256\u001B[0m │\n│ (\u001B[38;5;33mLayerNormalization\u001B[0m)            │                        │               │\n├─────────────────────────────────┼────────────────────────┼───────────────┤\n│ dense_45 (\u001B[38;5;33mDense\u001B[0m)                │ (\u001B[38;5;34m32\u001B[0m, \u001B[38;5;34m128\u001B[0m)              │        \u001B[38;5;34m16,512\u001B[0m │\n├─────────────────────────────────┼────────────────────────┼───────────────┤\n│ dropout_27 (\u001B[38;5;33mDropout\u001B[0m)            │ (\u001B[38;5;34m32\u001B[0m, \u001B[38;5;34m128\u001B[0m)              │             \u001B[38;5;34m0\u001B[0m │\n├─────────────────────────────────┼────────────────────────┼───────────────┤\n│ dense_46 (\u001B[38;5;33mDense\u001B[0m)                │ (\u001B[38;5;34m32\u001B[0m, \u001B[38;5;34m64\u001B[0m)               │         \u001B[38;5;34m8,256\u001B[0m │\n├─────────────────────────────────┼────────────────────────┼───────────────┤\n│ dropout_28 (\u001B[38;5;33mDropout\u001B[0m)            │ (\u001B[38;5;34m32\u001B[0m, \u001B[38;5;34m64\u001B[0m)               │             \u001B[38;5;34m0\u001B[0m │\n├─────────────────────────────────┼────────────────────────┼───────────────┤\n│ dense_47 (\u001B[38;5;33mDense\u001B[0m)                │ (\u001B[38;5;34m32\u001B[0m, \u001B[38;5;34m1\u001B[0m)                │            \u001B[38;5;34m65\u001B[0m │\n└─────────────────────────────────┴────────────────────────┴───────────────┘\n",
      "text/html": "<pre style=\"white-space:pre;overflow-x:auto;line-height:normal;font-family:Menlo,'DejaVu Sans Mono',consolas,'Courier New',monospace\">┏━━━━━━━━━━━━━━━━━━━━━━━━━━━━━━━━━┳━━━━━━━━━━━━━━━━━━━━━━━━┳━━━━━━━━━━━━━━━┓\n┃<span style=\"font-weight: bold\"> Layer (type)                    </span>┃<span style=\"font-weight: bold\"> Output Shape           </span>┃<span style=\"font-weight: bold\">       Param # </span>┃\n┡━━━━━━━━━━━━━━━━━━━━━━━━━━━━━━━━━╇━━━━━━━━━━━━━━━━━━━━━━━━╇━━━━━━━━━━━━━━━┩\n│ text_vectorization              │ (<span style=\"color: #00af00; text-decoration-color: #00af00\">32</span>, <span style=\"color: #00af00; text-decoration-color: #00af00\">100</span>)              │             <span style=\"color: #00af00; text-decoration-color: #00af00\">0</span> │\n│ (<span style=\"color: #0087ff; text-decoration-color: #0087ff\">TextVectorization</span>)             │                        │               │\n├─────────────────────────────────┼────────────────────────┼───────────────┤\n│ embedding_14 (<span style=\"color: #0087ff; text-decoration-color: #0087ff\">Embedding</span>)        │ (<span style=\"color: #00af00; text-decoration-color: #00af00\">32</span>, <span style=\"color: #00af00; text-decoration-color: #00af00\">100</span>, <span style=\"color: #00af00; text-decoration-color: #00af00\">128</span>)         │     <span style=\"color: #00af00; text-decoration-color: #00af00\">2,560,000</span> │\n├─────────────────────────────────┼────────────────────────┼───────────────┤\n│ conv1d_31 (<span style=\"color: #0087ff; text-decoration-color: #0087ff\">Conv1D</span>)              │ (<span style=\"color: #00af00; text-decoration-color: #00af00\">32</span>, <span style=\"color: #00af00; text-decoration-color: #00af00\">100</span>, <span style=\"color: #00af00; text-decoration-color: #00af00\">128</span>)         │        <span style=\"color: #00af00; text-decoration-color: #00af00\">82,048</span> │\n├─────────────────────────────────┼────────────────────────┼───────────────┤\n│ conv1d_32 (<span style=\"color: #0087ff; text-decoration-color: #0087ff\">Conv1D</span>)              │ (<span style=\"color: #00af00; text-decoration-color: #00af00\">32</span>, <span style=\"color: #00af00; text-decoration-color: #00af00\">100</span>, <span style=\"color: #00af00; text-decoration-color: #00af00\">64</span>)          │        <span style=\"color: #00af00; text-decoration-color: #00af00\">41,024</span> │\n├─────────────────────────────────┼────────────────────────┼───────────────┤\n│ batch_normalization_17          │ (<span style=\"color: #00af00; text-decoration-color: #00af00\">32</span>, <span style=\"color: #00af00; text-decoration-color: #00af00\">100</span>, <span style=\"color: #00af00; text-decoration-color: #00af00\">64</span>)          │           <span style=\"color: #00af00; text-decoration-color: #00af00\">256</span> │\n│ (<span style=\"color: #0087ff; text-decoration-color: #0087ff\">BatchNormalization</span>)            │                        │               │\n├─────────────────────────────────┼────────────────────────┼───────────────┤\n│ max_pooling1d_17 (<span style=\"color: #0087ff; text-decoration-color: #0087ff\">MaxPooling1D</span>) │ (<span style=\"color: #00af00; text-decoration-color: #00af00\">32</span>, <span style=\"color: #00af00; text-decoration-color: #00af00\">50</span>, <span style=\"color: #00af00; text-decoration-color: #00af00\">64</span>)           │             <span style=\"color: #00af00; text-decoration-color: #00af00\">0</span> │\n├─────────────────────────────────┼────────────────────────┼───────────────┤\n│ conv1d_33 (<span style=\"color: #0087ff; text-decoration-color: #0087ff\">Conv1D</span>)              │ (<span style=\"color: #00af00; text-decoration-color: #00af00\">32</span>, <span style=\"color: #00af00; text-decoration-color: #00af00\">50</span>, <span style=\"color: #00af00; text-decoration-color: #00af00\">128</span>)          │        <span style=\"color: #00af00; text-decoration-color: #00af00\">41,088</span> │\n├─────────────────────────────────┼────────────────────────┼───────────────┤\n│ conv1d_34 (<span style=\"color: #0087ff; text-decoration-color: #0087ff\">Conv1D</span>)              │ (<span style=\"color: #00af00; text-decoration-color: #00af00\">32</span>, <span style=\"color: #00af00; text-decoration-color: #00af00\">50</span>, <span style=\"color: #00af00; text-decoration-color: #00af00\">64</span>)           │        <span style=\"color: #00af00; text-decoration-color: #00af00\">41,024</span> │\n├─────────────────────────────────┼────────────────────────┼───────────────┤\n│ batch_normalization_18          │ (<span style=\"color: #00af00; text-decoration-color: #00af00\">32</span>, <span style=\"color: #00af00; text-decoration-color: #00af00\">50</span>, <span style=\"color: #00af00; text-decoration-color: #00af00\">64</span>)           │           <span style=\"color: #00af00; text-decoration-color: #00af00\">256</span> │\n│ (<span style=\"color: #0087ff; text-decoration-color: #0087ff\">BatchNormalization</span>)            │                        │               │\n├─────────────────────────────────┼────────────────────────┼───────────────┤\n│ max_pooling1d_18 (<span style=\"color: #0087ff; text-decoration-color: #0087ff\">MaxPooling1D</span>) │ (<span style=\"color: #00af00; text-decoration-color: #00af00\">32</span>, <span style=\"color: #00af00; text-decoration-color: #00af00\">25</span>, <span style=\"color: #00af00; text-decoration-color: #00af00\">64</span>)           │             <span style=\"color: #00af00; text-decoration-color: #00af00\">0</span> │\n├─────────────────────────────────┼────────────────────────┼───────────────┤\n│ bidirectional_12                │ (<span style=\"color: #00af00; text-decoration-color: #00af00\">32</span>, <span style=\"color: #00af00; text-decoration-color: #00af00\">25</span>, <span style=\"color: #00af00; text-decoration-color: #00af00\">256</span>)          │       <span style=\"color: #00af00; text-decoration-color: #00af00\">197,632</span> │\n│ (<span style=\"color: #0087ff; text-decoration-color: #0087ff\">Bidirectional</span>)                 │                        │               │\n├─────────────────────────────────┼────────────────────────┼───────────────┤\n│ layer_normalization_11          │ (<span style=\"color: #00af00; text-decoration-color: #00af00\">32</span>, <span style=\"color: #00af00; text-decoration-color: #00af00\">25</span>, <span style=\"color: #00af00; text-decoration-color: #00af00\">256</span>)          │           <span style=\"color: #00af00; text-decoration-color: #00af00\">512</span> │\n│ (<span style=\"color: #0087ff; text-decoration-color: #0087ff\">LayerNormalization</span>)            │                        │               │\n├─────────────────────────────────┼────────────────────────┼───────────────┤\n│ bidirectional_13                │ (<span style=\"color: #00af00; text-decoration-color: #00af00\">32</span>, <span style=\"color: #00af00; text-decoration-color: #00af00\">128</span>)              │       <span style=\"color: #00af00; text-decoration-color: #00af00\">123,648</span> │\n│ (<span style=\"color: #0087ff; text-decoration-color: #0087ff\">Bidirectional</span>)                 │                        │               │\n├─────────────────────────────────┼────────────────────────┼───────────────┤\n│ layer_normalization_12          │ (<span style=\"color: #00af00; text-decoration-color: #00af00\">32</span>, <span style=\"color: #00af00; text-decoration-color: #00af00\">128</span>)              │           <span style=\"color: #00af00; text-decoration-color: #00af00\">256</span> │\n│ (<span style=\"color: #0087ff; text-decoration-color: #0087ff\">LayerNormalization</span>)            │                        │               │\n├─────────────────────────────────┼────────────────────────┼───────────────┤\n│ dense_45 (<span style=\"color: #0087ff; text-decoration-color: #0087ff\">Dense</span>)                │ (<span style=\"color: #00af00; text-decoration-color: #00af00\">32</span>, <span style=\"color: #00af00; text-decoration-color: #00af00\">128</span>)              │        <span style=\"color: #00af00; text-decoration-color: #00af00\">16,512</span> │\n├─────────────────────────────────┼────────────────────────┼───────────────┤\n│ dropout_27 (<span style=\"color: #0087ff; text-decoration-color: #0087ff\">Dropout</span>)            │ (<span style=\"color: #00af00; text-decoration-color: #00af00\">32</span>, <span style=\"color: #00af00; text-decoration-color: #00af00\">128</span>)              │             <span style=\"color: #00af00; text-decoration-color: #00af00\">0</span> │\n├─────────────────────────────────┼────────────────────────┼───────────────┤\n│ dense_46 (<span style=\"color: #0087ff; text-decoration-color: #0087ff\">Dense</span>)                │ (<span style=\"color: #00af00; text-decoration-color: #00af00\">32</span>, <span style=\"color: #00af00; text-decoration-color: #00af00\">64</span>)               │         <span style=\"color: #00af00; text-decoration-color: #00af00\">8,256</span> │\n├─────────────────────────────────┼────────────────────────┼───────────────┤\n│ dropout_28 (<span style=\"color: #0087ff; text-decoration-color: #0087ff\">Dropout</span>)            │ (<span style=\"color: #00af00; text-decoration-color: #00af00\">32</span>, <span style=\"color: #00af00; text-decoration-color: #00af00\">64</span>)               │             <span style=\"color: #00af00; text-decoration-color: #00af00\">0</span> │\n├─────────────────────────────────┼────────────────────────┼───────────────┤\n│ dense_47 (<span style=\"color: #0087ff; text-decoration-color: #0087ff\">Dense</span>)                │ (<span style=\"color: #00af00; text-decoration-color: #00af00\">32</span>, <span style=\"color: #00af00; text-decoration-color: #00af00\">1</span>)                │            <span style=\"color: #00af00; text-decoration-color: #00af00\">65</span> │\n└─────────────────────────────────┴────────────────────────┴───────────────┘\n</pre>\n"
     },
     "metadata": {},
     "output_type": "display_data"
    },
    {
     "data": {
      "text/plain": "\u001B[1m Total params: \u001B[0m\u001B[38;5;34m3,112,577\u001B[0m (11.87 MB)\n",
      "text/html": "<pre style=\"white-space:pre;overflow-x:auto;line-height:normal;font-family:Menlo,'DejaVu Sans Mono',consolas,'Courier New',monospace\"><span style=\"font-weight: bold\"> Total params: </span><span style=\"color: #00af00; text-decoration-color: #00af00\">3,112,577</span> (11.87 MB)\n</pre>\n"
     },
     "metadata": {},
     "output_type": "display_data"
    },
    {
     "data": {
      "text/plain": "\u001B[1m Trainable params: \u001B[0m\u001B[38;5;34m3,112,321\u001B[0m (11.87 MB)\n",
      "text/html": "<pre style=\"white-space:pre;overflow-x:auto;line-height:normal;font-family:Menlo,'DejaVu Sans Mono',consolas,'Courier New',monospace\"><span style=\"font-weight: bold\"> Trainable params: </span><span style=\"color: #00af00; text-decoration-color: #00af00\">3,112,321</span> (11.87 MB)\n</pre>\n"
     },
     "metadata": {},
     "output_type": "display_data"
    },
    {
     "data": {
      "text/plain": "\u001B[1m Non-trainable params: \u001B[0m\u001B[38;5;34m256\u001B[0m (1.00 KB)\n",
      "text/html": "<pre style=\"white-space:pre;overflow-x:auto;line-height:normal;font-family:Menlo,'DejaVu Sans Mono',consolas,'Courier New',monospace\"><span style=\"font-weight: bold\"> Non-trainable params: </span><span style=\"color: #00af00; text-decoration-color: #00af00\">256</span> (1.00 KB)\n</pre>\n"
     },
     "metadata": {},
     "output_type": "display_data"
    }
   ],
   "source": [
    "loaded_model = load_model(\"saves/model28.h5\", compile=False)\n",
    "loaded_model.summary()"
   ],
   "metadata": {
    "collapsed": false,
    "ExecuteTime": {
     "end_time": "2024-12-16T12:47:08.994374200Z",
     "start_time": "2024-12-16T12:47:08.448541500Z"
    }
   },
   "id": "731543852d39d0d3"
  }
 ],
 "metadata": {
  "kernelspec": {
   "display_name": "Python 3",
   "language": "python",
   "name": "python3"
  },
  "language_info": {
   "codemirror_mode": {
    "name": "ipython",
    "version": 2
   },
   "file_extension": ".py",
   "mimetype": "text/x-python",
   "name": "python",
   "nbconvert_exporter": "python",
   "pygments_lexer": "ipython2",
   "version": "2.7.6"
  }
 },
 "nbformat": 4,
 "nbformat_minor": 5
}
